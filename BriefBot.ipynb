{
 "cells": [
  {
   "cell_type": "code",
   "execution_count": null,
   "metadata": {},
   "outputs": [],
   "source": [
    "import os\n",
    "from docx2pdf import convert\n",
    "\n",
    "def convert_word_to_pdf(input_folder, output_folder):\n",
    "    # Create the output folder if it doesn't exist\n",
    "    os.makedirs(output_folder, exist_ok=True)\n",
    "\n",
    "    # Traverse the input folder and its subfolders\n",
    "    for root, dirs, files in os.walk(input_folder):\n",
    "        for file in files:\n",
    "            # Check if the file is a Word document\n",
    "            if file.endswith('.docx'):\n",
    "                # Get the full path of the Word document\n",
    "                docx_path = os.path.join(root, file)\n",
    "\n",
    "                # Convert the Word document to PDF\n",
    "                pdf_path = os.path.join(output_folder, file.replace('.docx', '.pdf'))\n",
    "                convert(docx_path, pdf_path)\n",
    "                print(f\"Converted: {docx_path} -> {pdf_path}\")\n",
    "\n",
    "# Usage example\n",
    "input_folder = \"C:\\\\Users\\\\maxsc\\\\OneDrive\\\\Desktop\\\\Geschreibsel\"\n",
    "output_folder = \"D:\\\\Documents\\\\GitHub\\\\localGPT\\\\SOURCE_DOCUMENTS\"\n",
    "\n",
    "convert_word_to_pdf(input_folder, output_folder)\n"
   ]
  },
  {
   "cell_type": "code",
   "execution_count": null,
   "metadata": {},
   "outputs": [
    {
     "name": "stdout",
     "output_type": "stream",
     "text": [
      "<module 'torch.version' from 'd:\\\\Documents\\\\GitHub\\\\localGPT\\\\.venv\\\\lib\\\\site-packages\\\\torch\\\\version.py'>\n"
     ]
    }
   ],
   "source": [
    "import torch\n",
    "print(torch.version)\n"
   ]
  },
  {
   "cell_type": "code",
   "execution_count": null,
   "metadata": {},
   "outputs": [],
   "source": [
    "pip install --default-timeout=100 torch torchvision torchaudio --index-url https://download.pytorch.org/whl/cu117"
   ]
  }
 ],
 "metadata": {
  "kernelspec": {
   "display_name": ".venv",
   "language": "python",
   "name": "python3"
  },
  "language_info": {
   "codemirror_mode": {
    "name": "ipython",
    "version": 3
   },
   "file_extension": ".py",
   "mimetype": "text/x-python",
   "name": "python",
   "nbconvert_exporter": "python",
   "pygments_lexer": "ipython3",
   "version": "3.10.5"
  },
  "orig_nbformat": 4
 },
 "nbformat": 4,
 "nbformat_minor": 2
}
